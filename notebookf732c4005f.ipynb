{
 "cells": [
  {
   "cell_type": "code",
   "execution_count": 1,
   "id": "9c1f77ef",
   "metadata": {
    "_cell_guid": "b1076dfc-b9ad-4769-8c92-a6c4dae69d19",
    "_uuid": "8f2839f25d086af736a60e9eeb907d3b93b6e0e5",
    "execution": {
     "iopub.execute_input": "2022-03-10T07:18:45.577730Z",
     "iopub.status.busy": "2022-03-10T07:18:45.575727Z",
     "iopub.status.idle": "2022-03-10T07:19:07.356790Z",
     "shell.execute_reply": "2022-03-10T07:19:07.356119Z",
     "shell.execute_reply.started": "2022-03-10T00:43:10.469213Z"
    },
    "papermill": {
     "duration": 21.816291,
     "end_time": "2022-03-10T07:19:07.356916",
     "exception": false,
     "start_time": "2022-03-10T07:18:45.540625",
     "status": "completed"
    },
    "tags": []
   },
   "outputs": [
    {
     "name": "stdout",
     "output_type": "stream",
     "text": [
      "/kaggle/input/twitter-sentiment-analysis-hatred-speech/train.csv\n",
      "/kaggle/input/twitter-sentiment-analysis-hatred-speech/test.csv\n",
      "[nltk_data] Error loading stopwords: <urlopen error [Errno -3]\n",
      "[nltk_data]     Temporary failure in name resolution>\n"
     ]
    }
   ],
   "source": [
    "# This Python 3 environment comes with many helpful analytics libraries installed\n",
    "# It is defined by the kaggle/python Docker image: https://github.com/kaggle/docker-python\n",
    "# For example, here's several helpful packages to load\n",
    "import seaborn as sns\n",
    "import numpy as np # linear algebra\n",
    "import pandas as pd # data processing, CSV file I/O (e.g. pd.read_csv)\n",
    "\n",
    "# Input data files are available in the read-only \"../input/\" directory\n",
    "# For example, running this (by clicking run or pressing Shift+Enter) will list all files under the input directory\n",
    "import matplotlib.pyplot as plt\n",
    "import os\n",
    "for dirname, _, filenames in os.walk('/kaggle/input'):\n",
    "    for filename in filenames:\n",
    "        print(os.path.join(dirname, filename))\n",
    "import missingno\n",
    "import re\n",
    "import chardet\n",
    "import nltk\n",
    "from nltk.corpus import stopwords\n",
    "nltk.download('stopwords')\n",
    "from nltk.stem import PorterStemmer\n",
    "# You can write up to 20GB to the current directory (/kaggle/working/) that gets preserved as output when you create a version using \"Save & Run All\" \n",
    "# You can also write temporary files to /kaggle/temp/, but they won't be saved outside of the current session"
   ]
  },
  {
   "cell_type": "code",
   "execution_count": 2,
   "id": "a785e63d",
   "metadata": {
    "execution": {
     "iopub.execute_input": "2022-03-10T07:19:07.410520Z",
     "iopub.status.busy": "2022-03-10T07:19:07.409921Z",
     "iopub.status.idle": "2022-03-10T07:19:07.593936Z",
     "shell.execute_reply": "2022-03-10T07:19:07.592616Z",
     "shell.execute_reply.started": "2022-03-10T00:43:32.465054Z"
    },
    "papermill": {
     "duration": 0.211913,
     "end_time": "2022-03-10T07:19:07.594198",
     "exception": false,
     "start_time": "2022-03-10T07:19:07.382285",
     "status": "completed"
    },
    "tags": []
   },
   "outputs": [
    {
     "name": "stdout",
     "output_type": "stream",
     "text": [
      "(31962, 3)\n",
      "(17197, 2)\n"
     ]
    }
   ],
   "source": [
    "train=pd.read_csv(\"/kaggle/input/twitter-sentiment-analysis-hatred-speech/train.csv\")\n",
    "test=pd.read_csv(\"/kaggle/input/twitter-sentiment-analysis-hatred-speech/test.csv\")\n",
    "print(train.shape)\n",
    "print(test.shape)"
   ]
  },
  {
   "cell_type": "code",
   "execution_count": 3,
   "id": "fc7efdc5",
   "metadata": {
    "execution": {
     "iopub.execute_input": "2022-03-10T07:19:07.680263Z",
     "iopub.status.busy": "2022-03-10T07:19:07.673910Z",
     "iopub.status.idle": "2022-03-10T07:19:07.692827Z",
     "shell.execute_reply": "2022-03-10T07:19:07.693335Z",
     "shell.execute_reply.started": "2022-03-10T00:43:32.650825Z"
    },
    "papermill": {
     "duration": 0.060459,
     "end_time": "2022-03-10T07:19:07.693544",
     "exception": false,
     "start_time": "2022-03-10T07:19:07.633085",
     "status": "completed"
    },
    "tags": []
   },
   "outputs": [
    {
     "data": {
      "text/html": [
       "<div>\n",
       "<style scoped>\n",
       "    .dataframe tbody tr th:only-of-type {\n",
       "        vertical-align: middle;\n",
       "    }\n",
       "\n",
       "    .dataframe tbody tr th {\n",
       "        vertical-align: top;\n",
       "    }\n",
       "\n",
       "    .dataframe thead th {\n",
       "        text-align: right;\n",
       "    }\n",
       "</style>\n",
       "<table border=\"1\" class=\"dataframe\">\n",
       "  <thead>\n",
       "    <tr style=\"text-align: right;\">\n",
       "      <th></th>\n",
       "      <th>id</th>\n",
       "      <th>label</th>\n",
       "      <th>tweet</th>\n",
       "    </tr>\n",
       "  </thead>\n",
       "  <tbody>\n",
       "    <tr>\n",
       "      <th>0</th>\n",
       "      <td>1</td>\n",
       "      <td>0</td>\n",
       "      <td>@user when a father is dysfunctional and is s...</td>\n",
       "    </tr>\n",
       "    <tr>\n",
       "      <th>1</th>\n",
       "      <td>2</td>\n",
       "      <td>0</td>\n",
       "      <td>@user @user thanks for #lyft credit i can't us...</td>\n",
       "    </tr>\n",
       "    <tr>\n",
       "      <th>2</th>\n",
       "      <td>3</td>\n",
       "      <td>0</td>\n",
       "      <td>bihday your majesty</td>\n",
       "    </tr>\n",
       "    <tr>\n",
       "      <th>3</th>\n",
       "      <td>4</td>\n",
       "      <td>0</td>\n",
       "      <td>#model   i love u take with u all the time in ...</td>\n",
       "    </tr>\n",
       "    <tr>\n",
       "      <th>4</th>\n",
       "      <td>5</td>\n",
       "      <td>0</td>\n",
       "      <td>factsguide: society now    #motivation</td>\n",
       "    </tr>\n",
       "  </tbody>\n",
       "</table>\n",
       "</div>"
      ],
      "text/plain": [
       "   id  label                                              tweet\n",
       "0   1      0   @user when a father is dysfunctional and is s...\n",
       "1   2      0  @user @user thanks for #lyft credit i can't us...\n",
       "2   3      0                                bihday your majesty\n",
       "3   4      0  #model   i love u take with u all the time in ...\n",
       "4   5      0             factsguide: society now    #motivation"
      ]
     },
     "execution_count": 3,
     "metadata": {},
     "output_type": "execute_result"
    }
   ],
   "source": [
    "train.head()"
   ]
  },
  {
   "cell_type": "code",
   "execution_count": 4,
   "id": "52cbb4c7",
   "metadata": {
    "execution": {
     "iopub.execute_input": "2022-03-10T07:19:07.775756Z",
     "iopub.status.busy": "2022-03-10T07:19:07.774929Z",
     "iopub.status.idle": "2022-03-10T07:19:07.782663Z",
     "shell.execute_reply": "2022-03-10T07:19:07.782106Z",
     "shell.execute_reply.started": "2022-03-10T00:43:32.674098Z"
    },
    "papermill": {
     "duration": 0.050145,
     "end_time": "2022-03-10T07:19:07.782795",
     "exception": false,
     "start_time": "2022-03-10T07:19:07.732650",
     "status": "completed"
    },
    "tags": []
   },
   "outputs": [
    {
     "data": {
      "text/html": [
       "<div>\n",
       "<style scoped>\n",
       "    .dataframe tbody tr th:only-of-type {\n",
       "        vertical-align: middle;\n",
       "    }\n",
       "\n",
       "    .dataframe tbody tr th {\n",
       "        vertical-align: top;\n",
       "    }\n",
       "\n",
       "    .dataframe thead th {\n",
       "        text-align: right;\n",
       "    }\n",
       "</style>\n",
       "<table border=\"1\" class=\"dataframe\">\n",
       "  <thead>\n",
       "    <tr style=\"text-align: right;\">\n",
       "      <th></th>\n",
       "      <th>id</th>\n",
       "      <th>tweet</th>\n",
       "    </tr>\n",
       "  </thead>\n",
       "  <tbody>\n",
       "    <tr>\n",
       "      <th>0</th>\n",
       "      <td>31963</td>\n",
       "      <td>#studiolife #aislife #requires #passion #dedic...</td>\n",
       "    </tr>\n",
       "    <tr>\n",
       "      <th>1</th>\n",
       "      <td>31964</td>\n",
       "      <td>@user #white #supremacists want everyone to s...</td>\n",
       "    </tr>\n",
       "    <tr>\n",
       "      <th>2</th>\n",
       "      <td>31965</td>\n",
       "      <td>safe ways to heal your #acne!!    #altwaystohe...</td>\n",
       "    </tr>\n",
       "    <tr>\n",
       "      <th>3</th>\n",
       "      <td>31966</td>\n",
       "      <td>is the hp and the cursed child book up for res...</td>\n",
       "    </tr>\n",
       "    <tr>\n",
       "      <th>4</th>\n",
       "      <td>31967</td>\n",
       "      <td>3rd #bihday to my amazing, hilarious #nephew...</td>\n",
       "    </tr>\n",
       "  </tbody>\n",
       "</table>\n",
       "</div>"
      ],
      "text/plain": [
       "      id                                              tweet\n",
       "0  31963  #studiolife #aislife #requires #passion #dedic...\n",
       "1  31964   @user #white #supremacists want everyone to s...\n",
       "2  31965  safe ways to heal your #acne!!    #altwaystohe...\n",
       "3  31966  is the hp and the cursed child book up for res...\n",
       "4  31967    3rd #bihday to my amazing, hilarious #nephew..."
      ]
     },
     "execution_count": 4,
     "metadata": {},
     "output_type": "execute_result"
    }
   ],
   "source": [
    "test.head()"
   ]
  },
  {
   "cell_type": "code",
   "execution_count": 5,
   "id": "9d76db61",
   "metadata": {
    "execution": {
     "iopub.execute_input": "2022-03-10T07:19:07.866703Z",
     "iopub.status.busy": "2022-03-10T07:19:07.865883Z",
     "iopub.status.idle": "2022-03-10T07:19:08.034732Z",
     "shell.execute_reply": "2022-03-10T07:19:08.035106Z",
     "shell.execute_reply.started": "2022-03-10T00:43:32.685535Z"
    },
    "papermill": {
     "duration": 0.211506,
     "end_time": "2022-03-10T07:19:08.035247",
     "exception": false,
     "start_time": "2022-03-10T07:19:07.823741",
     "status": "completed"
    },
    "tags": []
   },
   "outputs": [
    {
     "data": {
      "image/png": "[encoded data removed]",
      "text/plain": [
       "<Figure size 1440x72 with 1 Axes>"
      ]
     },
     "metadata": {
      "needs_background": "light"
     },
     "output_type": "display_data"
    }
   ],
   "source": [
    "fig = plt.figure(figsize=(20,1))\n",
    "sns.countplot(y='label', data=train);"
   ]
  },
  {
   "cell_type": "code",
   "execution_count": 6,
   "id": "aafba0c2",
   "metadata": {
    "execution": {
     "iopub.execute_input": "2022-03-10T07:19:08.100465Z",
     "iopub.status.busy": "2022-03-10T07:19:08.095172Z",
     "iopub.status.idle": "2022-03-10T07:19:08.103020Z",
     "shell.execute_reply": "2022-03-10T07:19:08.103532Z",
     "shell.execute_reply.started": "2022-03-10T00:43:32.901923Z"
    },
    "papermill": {
     "duration": 0.041071,
     "end_time": "2022-03-10T07:19:08.103681",
     "exception": false,
     "start_time": "2022-03-10T07:19:08.062610",
     "status": "completed"
    },
    "tags": []
   },
   "outputs": [
    {
     "data": {
      "text/plain": [
       "0    92.98542\n",
       "1     7.01458\n",
       "Name: label, dtype: float64"
      ]
     },
     "execution_count": 6,
     "metadata": {},
     "output_type": "execute_result"
    }
   ],
   "source": [
    "(train.label.value_counts() / len(train))*100\n",
    "#percentage of mean tweets\n"
   ]
  },
  {
   "cell_type": "code",
   "execution_count": 7,
   "id": "9f6eb55e",
   "metadata": {
    "execution": {
     "iopub.execute_input": "2022-03-10T07:19:08.160240Z",
     "iopub.status.busy": "2022-03-10T07:19:08.159686Z",
     "iopub.status.idle": "2022-03-10T07:19:08.546128Z",
     "shell.execute_reply": "2022-03-10T07:19:08.545612Z",
     "shell.execute_reply.started": "2022-03-10T00:43:32.914318Z"
    },
    "papermill": {
     "duration": 0.41603,
     "end_time": "2022-03-10T07:19:08.546366",
     "exception": false,
     "start_time": "2022-03-10T07:19:08.130336",
     "status": "completed"
    },
    "tags": []
   },
   "outputs": [
    {
     "data": {
      "text/plain": [
       "<AxesSubplot:>"
      ]
     },
     "execution_count": 7,
     "metadata": {},
     "output_type": "execute_result"
    },
    {
     "data": {
      "image/png": "[encoded data removed]",
      "text/plain": [
       "<Figure size 1800x720 with 2 Axes>"
      ]
     },
     "metadata": {
      "needs_background": "light"
     },
     "output_type": "display_data"
    }
   ],
   "source": [
    "missingno.matrix(train)\n"
   ]
  },
  {
   "cell_type": "code",
   "execution_count": 8,
   "id": "2d5ab883",
   "metadata": {
    "execution": {
     "iopub.execute_input": "2022-03-10T07:19:08.610815Z",
     "iopub.status.busy": "2022-03-10T07:19:08.609886Z",
     "iopub.status.idle": "2022-03-10T07:19:08.631606Z",
     "shell.execute_reply": "2022-03-10T07:19:08.631017Z",
     "shell.execute_reply.started": "2022-03-10T00:43:33.412359Z"
    },
    "papermill": {
     "duration": 0.056744,
     "end_time": "2022-03-10T07:19:08.631752",
     "exception": false,
     "start_time": "2022-03-10T07:19:08.575008",
     "status": "completed"
    },
    "tags": []
   },
   "outputs": [
    {
     "data": {
      "text/plain": [
       "False    31962\n",
       "dtype: int64"
      ]
     },
     "execution_count": 8,
     "metadata": {},
     "output_type": "execute_result"
    }
   ],
   "source": [
    "train.duplicated().value_counts()"
   ]
  },
  {
   "cell_type": "code",
   "execution_count": 9,
   "id": "ec58e8f8",
   "metadata": {
    "execution": {
     "iopub.execute_input": "2022-03-10T07:19:08.723462Z",
     "iopub.status.busy": "2022-03-10T07:19:08.722953Z",
     "iopub.status.idle": "2022-03-10T07:19:09.052353Z",
     "shell.execute_reply": "2022-03-10T07:19:09.052752Z",
     "shell.execute_reply.started": "2022-03-10T00:43:33.441952Z"
    },
    "papermill": {
     "duration": 0.376509,
     "end_time": "2022-03-10T07:19:09.052936",
     "exception": false,
     "start_time": "2022-03-10T07:19:08.676427",
     "status": "completed"
    },
    "tags": []
   },
   "outputs": [
    {
     "data": {
      "text/html": [
       "<div>\n",
       "<style scoped>\n",
       "    .dataframe tbody tr th:only-of-type {\n",
       "        vertical-align: middle;\n",
       "    }\n",
       "\n",
       "    .dataframe tbody tr th {\n",
       "        vertical-align: top;\n",
       "    }\n",
       "\n",
       "    .dataframe thead th {\n",
       "        text-align: right;\n",
       "    }\n",
       "</style>\n",
       "<table border=\"1\" class=\"dataframe\">\n",
       "  <thead>\n",
       "    <tr style=\"text-align: right;\">\n",
       "      <th></th>\n",
       "      <th>id</th>\n",
       "      <th>label</th>\n",
       "      <th>tweet</th>\n",
       "      <th>tweetch</th>\n",
       "      <th>hashtag</th>\n",
       "    </tr>\n",
       "  </thead>\n",
       "  <tbody>\n",
       "    <tr>\n",
       "      <th>0</th>\n",
       "      <td>1</td>\n",
       "      <td>0</td>\n",
       "      <td>@user when a father is dysfunctional and is s...</td>\n",
       "      <td>user when a father is dysfunctional and is s...</td>\n",
       "      <td>[run]</td>\n",
       "    </tr>\n",
       "    <tr>\n",
       "      <th>1</th>\n",
       "      <td>2</td>\n",
       "      <td>0</td>\n",
       "      <td>@user @user thanks for #lyft credit i can't us...</td>\n",
       "      <td>user  user thanks for  lyft credit i can t us...</td>\n",
       "      <td>[lyft, disapointed, getthanked]</td>\n",
       "    </tr>\n",
       "    <tr>\n",
       "      <th>2</th>\n",
       "      <td>3</td>\n",
       "      <td>0</td>\n",
       "      <td>bihday your majesty</td>\n",
       "      <td>bihday your majesty</td>\n",
       "      <td>[]</td>\n",
       "    </tr>\n",
       "    <tr>\n",
       "      <th>3</th>\n",
       "      <td>4</td>\n",
       "      <td>0</td>\n",
       "      <td>#model   i love u take with u all the time in ...</td>\n",
       "      <td>model   i love u take with u all the time in ...</td>\n",
       "      <td>[model]</td>\n",
       "    </tr>\n",
       "    <tr>\n",
       "      <th>4</th>\n",
       "      <td>5</td>\n",
       "      <td>0</td>\n",
       "      <td>factsguide: society now    #motivation</td>\n",
       "      <td>factsguide  society now     motivation</td>\n",
       "      <td>[motivation]</td>\n",
       "    </tr>\n",
       "    <tr>\n",
       "      <th>...</th>\n",
       "      <td>...</td>\n",
       "      <td>...</td>\n",
       "      <td>...</td>\n",
       "      <td>...</td>\n",
       "      <td>...</td>\n",
       "    </tr>\n",
       "    <tr>\n",
       "      <th>31957</th>\n",
       "      <td>31958</td>\n",
       "      <td>0</td>\n",
       "      <td>ate @user isz that youuu?ðððððð...</td>\n",
       "      <td>ate  user isz that youuu                      ...</td>\n",
       "      <td>[]</td>\n",
       "    </tr>\n",
       "    <tr>\n",
       "      <th>31958</th>\n",
       "      <td>31959</td>\n",
       "      <td>0</td>\n",
       "      <td>to see nina turner on the airwaves trying to...</td>\n",
       "      <td>to see nina turner on the airwaves trying to...</td>\n",
       "      <td>[shame, imwithher]</td>\n",
       "    </tr>\n",
       "    <tr>\n",
       "      <th>31959</th>\n",
       "      <td>31960</td>\n",
       "      <td>0</td>\n",
       "      <td>listening to sad songs on a monday morning otw...</td>\n",
       "      <td>listening to sad songs on a monday morning otw...</td>\n",
       "      <td>[]</td>\n",
       "    </tr>\n",
       "    <tr>\n",
       "      <th>31960</th>\n",
       "      <td>31961</td>\n",
       "      <td>1</td>\n",
       "      <td>@user #sikh #temple vandalised in in #calgary,...</td>\n",
       "      <td>user  sikh  temple vandalised in in  calgary ...</td>\n",
       "      <td>[sikh, temple, calgary, wso]</td>\n",
       "    </tr>\n",
       "    <tr>\n",
       "      <th>31961</th>\n",
       "      <td>31962</td>\n",
       "      <td>0</td>\n",
       "      <td>thank you @user for you follow</td>\n",
       "      <td>thank you  user for you follow</td>\n",
       "      <td>[]</td>\n",
       "    </tr>\n",
       "  </tbody>\n",
       "</table>\n",
       "<p>31962 rows × 5 columns</p>\n",
       "</div>"
      ],
      "text/plain": [
       "          id  label                                              tweet  \\\n",
       "0          1      0   @user when a father is dysfunctional and is s...   \n",
       "1          2      0  @user @user thanks for #lyft credit i can't us...   \n",
       "2          3      0                                bihday your majesty   \n",
       "3          4      0  #model   i love u take with u all the time in ...   \n",
       "4          5      0             factsguide: society now    #motivation   \n",
       "...      ...    ...                                                ...   \n",
       "31957  31958      0  ate @user isz that youuu?ðððððð...   \n",
       "31958  31959      0    to see nina turner on the airwaves trying to...   \n",
       "31959  31960      0  listening to sad songs on a monday morning otw...   \n",
       "31960  31961      1  @user #sikh #temple vandalised in in #calgary,...   \n",
       "31961  31962      0                   thank you @user for you follow     \n",
       "\n",
       "                                                 tweetch  \\\n",
       "0        user when a father is dysfunctional and is s...   \n",
       "1       user  user thanks for  lyft credit i can t us...   \n",
       "2                                    bihday your majesty   \n",
       "3       model   i love u take with u all the time in ...   \n",
       "4                 factsguide  society now     motivation   \n",
       "...                                                  ...   \n",
       "31957  ate  user isz that youuu                      ...   \n",
       "31958    to see nina turner on the airwaves trying to...   \n",
       "31959  listening to sad songs on a monday morning otw...   \n",
       "31960   user  sikh  temple vandalised in in  calgary ...   \n",
       "31961                   thank you  user for you follow     \n",
       "\n",
       "                               hashtag  \n",
       "0                                [run]  \n",
       "1      [lyft, disapointed, getthanked]  \n",
       "2                                   []  \n",
       "3                              [model]  \n",
       "4                         [motivation]  \n",
       "...                                ...  \n",
       "31957                               []  \n",
       "31958               [shame, imwithher]  \n",
       "31959                               []  \n",
       "31960     [sikh, temple, calgary, wso]  \n",
       "31961                               []  \n",
       "\n",
       "[31962 rows x 5 columns]"
      ]
     },
     "execution_count": 9,
     "metadata": {},
     "output_type": "execute_result"
    }
   ],
   "source": [
    "my_set = set()\n",
    "df=train\n",
    "df[\"tweetch\"]=train[\"tweet\"].replace(r'[^A-Za-z0-9]', ' ',regex=True)\n",
    "#result = re.sub(r'[^A-Za-z]', '', lambda row : , axis = 1)\n",
    "df['hashtag']=df.tweet.str.findall(r'#(\\w+)')\n",
    "df.head(20)\n",
    "df"
   ]
  },
  {
   "cell_type": "code",
   "execution_count": 10,
   "id": "2d768c4f",
   "metadata": {
    "execution": {
     "iopub.execute_input": "2022-03-10T07:19:09.117170Z",
     "iopub.status.busy": "2022-03-10T07:19:09.114937Z",
     "iopub.status.idle": "2022-03-10T07:19:09.275177Z",
     "shell.execute_reply": "2022-03-10T07:19:09.274270Z",
     "shell.execute_reply.started": "2022-03-10T00:43:34.002668Z"
    },
    "papermill": {
     "duration": 0.193252,
     "end_time": "2022-03-10T07:19:09.275366",
     "exception": false,
     "start_time": "2022-03-10T07:19:09.082114",
     "status": "completed"
    },
    "tags": []
   },
   "outputs": [
    {
     "name": "stdout",
     "output_type": "stream",
     "text": [
      "id         31962\n",
      "label      31962\n",
      "tweet      31962\n",
      "tweetch    31962\n",
      "hashtag    31962\n",
      "dtype: int64\n"
     ]
    },
    {
     "data": {
      "image/png": "[encoded data removed]",
      "text/plain": [
       "<Figure size 1440x72 with 1 Axes>"
      ]
     },
     "metadata": {
      "needs_background": "light"
     },
     "output_type": "display_data"
    }
   ],
   "source": [
    "print(train.count())\n",
    "tr=df[df.hashtag.str.len().eq(0)]\n",
    "fig = plt.figure(figsize=(20,1))\n",
    "sns.countplot(y='label', data=tr);"
   ]
  },
  {
   "cell_type": "code",
   "execution_count": 11,
   "id": "0a1915fc",
   "metadata": {
    "execution": {
     "iopub.execute_input": "2022-03-10T07:19:09.347925Z",
     "iopub.status.busy": "2022-03-10T07:19:09.347190Z",
     "iopub.status.idle": "2022-03-10T07:19:09.371638Z",
     "shell.execute_reply": "2022-03-10T07:19:09.371077Z",
     "shell.execute_reply.started": "2022-03-10T00:43:34.231239Z"
    },
    "papermill": {
     "duration": 0.059288,
     "end_time": "2022-03-10T07:19:09.371745",
     "exception": false,
     "start_time": "2022-03-10T07:19:09.312457",
     "status": "completed"
    },
    "tags": []
   },
   "outputs": [
    {
     "data": {
      "text/plain": [
       "131"
      ]
     },
     "execution_count": 11,
     "metadata": {},
     "output_type": "execute_result"
    }
   ],
   "source": [
    "len(train[train['tweet'].str.contains('#girls')])\n"
   ]
  },
  {
   "cell_type": "code",
   "execution_count": 12,
   "id": "987f4e23",
   "metadata": {
    "execution": {
     "iopub.execute_input": "2022-03-10T07:19:09.437821Z",
     "iopub.status.busy": "2022-03-10T07:19:09.437141Z",
     "iopub.status.idle": "2022-03-10T07:19:11.155727Z",
     "shell.execute_reply": "2022-03-10T07:19:11.156257Z",
     "shell.execute_reply.started": "2022-03-10T00:43:34.26544Z"
    },
    "papermill": {
     "duration": 1.75224,
     "end_time": "2022-03-10T07:19:11.156433",
     "exception": false,
     "start_time": "2022-03-10T07:19:09.404193",
     "status": "completed"
    },
    "tags": []
   },
   "outputs": [
    {
     "name": "stdout",
     "output_type": "stream",
     "text": [
      "76296\n",
      "occured less than 100 59377\n",
      "occured greather than 100 16819\n"
     ]
    },
    {
     "data": {
      "text/plain": [
       "23048"
      ]
     },
     "execution_count": 12,
     "metadata": {},
     "output_type": "execute_result"
    },
    {
     "data": {
      "image/png": "[encoded data removed]",
      "text/plain": [
       "<Figure size 432x288 with 1 Axes>"
      ]
     },
     "metadata": {
      "needs_background": "light"
     },
     "output_type": "display_data"
    }
   ],
   "source": [
    "s=train['tweet'].str.findall(r'(#\\w+)').explode().value_counts()\n",
    "s[\"hashtag\"]=s.index\n",
    "#s=s.reset_index(drop=True)\n",
    "s=s.reset_index(drop=False)\n",
    "s = s[:-1]\n",
    "\n",
    "s['tweet'] = pd.to_numeric(s['tweet'])\n",
    "print(s.tweet.sum())\n",
    "print(\"occured less than 100\",s.tweet.loc[s[\"tweet\"]<100].sum())\n",
    "s=s.loc[s.tweet>50]\n",
    "print(\"occured greather than 100\",s.tweet.loc[s[\"tweet\"]>100].sum())\n",
    "s=s.rename(columns={\"index\": \"Hashtag\", \"tweet\": \"occurance\"})\n",
    "s[\"Hashtag\"] = s[\"Hashtag\"].str.replace(\"#\", \"\")\n",
    "\n",
    "s.sort_index().plot.bar()\n",
    "s.occurance.sum()"
   ]
  },
  {
   "cell_type": "code",
   "execution_count": 13,
   "id": "156c5437",
   "metadata": {
    "execution": {
     "iopub.execute_input": "2022-03-10T07:19:11.231188Z",
     "iopub.status.busy": "2022-03-10T07:19:11.230634Z",
     "iopub.status.idle": "2022-03-10T07:19:16.132053Z",
     "shell.execute_reply": "2022-03-10T07:19:16.132450Z",
     "shell.execute_reply.started": "2022-03-10T00:43:36.564565Z"
    },
    "papermill": {
     "duration": 4.943353,
     "end_time": "2022-03-10T07:19:16.132601",
     "exception": false,
     "start_time": "2022-03-10T07:19:11.189248",
     "status": "completed"
    },
    "tags": []
   },
   "outputs": [
    {
     "data": {
      "text/plain": [
       "<matplotlib.legend.Legend at 0x7fda45bf8a10>"
      ]
     },
     "execution_count": 13,
     "metadata": {},
     "output_type": "execute_result"
    },
    {
     "data": {
      "image/png": "[encoded data removed]",
      "text/plain": [
       "<Figure size 2160x2160 with 1 Axes>"
      ]
     },
     "metadata": {
      "needs_background": "light"
     },
     "output_type": "display_data"
    }
   ],
   "source": [
    "x=[]\n",
    "\n",
    "\n",
    "hate=[]\n",
    "neutral=[]\n",
    "fig = plt.figure(figsize=(30,30))\n",
    "\n",
    "for tag in s[\"Hashtag\"]: \n",
    "    t=df[df['hashtag'].apply(lambda x: tag in x)]\n",
    "    x.append(tag)\n",
    "    hate.append(len(t[t[\"label\"]==1]))\n",
    "    neutral.append(len(t[t[\"label\"]==0]))\n",
    "plt.xticks(rotation='vertical')\n",
    "plt.bar(x,hate,label=\"hate\",color=\"orange\")\n",
    "plt.bar(x,neutral,bottom=hate,label=\"neutral\",color=\"blue\")\n",
    "plt.legend()\n"
   ]
  },
  {
   "cell_type": "code",
   "execution_count": 14,
   "id": "8cd3b694",
   "metadata": {
    "execution": {
     "iopub.execute_input": "2022-03-10T07:19:16.215449Z",
     "iopub.status.busy": "2022-03-10T07:19:16.214681Z",
     "iopub.status.idle": "2022-03-10T07:19:16.262529Z",
     "shell.execute_reply": "2022-03-10T07:19:16.262068Z",
     "shell.execute_reply.started": "2022-03-10T00:43:41.360201Z"
    },
    "papermill": {
     "duration": 0.096205,
     "end_time": "2022-03-10T07:19:16.262642",
     "exception": false,
     "start_time": "2022-03-10T07:19:16.166437",
     "status": "completed"
    },
    "tags": []
   },
   "outputs": [
    {
     "data": {
      "text/html": [
       "<div>\n",
       "<style scoped>\n",
       "    .dataframe tbody tr th:only-of-type {\n",
       "        vertical-align: middle;\n",
       "    }\n",
       "\n",
       "    .dataframe tbody tr th {\n",
       "        vertical-align: top;\n",
       "    }\n",
       "\n",
       "    .dataframe thead th {\n",
       "        text-align: right;\n",
       "    }\n",
       "</style>\n",
       "<table border=\"1\" class=\"dataframe\">\n",
       "  <thead>\n",
       "    <tr style=\"text-align: right;\">\n",
       "      <th></th>\n",
       "      <th>id</th>\n",
       "      <th>label</th>\n",
       "      <th>tweet</th>\n",
       "      <th>tweetch</th>\n",
       "      <th>hashtag</th>\n",
       "    </tr>\n",
       "  </thead>\n",
       "  <tbody>\n",
       "    <tr>\n",
       "      <th>295</th>\n",
       "      <td>296</td>\n",
       "      <td>0</td>\n",
       "      <td>twinklatinboys - na: #slut #snapshot #hot #nas...</td>\n",
       "      <td>twinklatinboys   na   slut  snapshot  hot  nas...</td>\n",
       "      <td>[slut, snapshot, hot, nasty, naughty, sexy, ho...</td>\n",
       "    </tr>\n",
       "    <tr>\n",
       "      <th>2866</th>\n",
       "      <td>2867</td>\n",
       "      <td>0</td>\n",
       "      <td>ursexiestmorena - na: #shy #porn #naughty #nud...</td>\n",
       "      <td>ursexiestmorena   na   shy  porn  naughty  nud...</td>\n",
       "      <td>[shy, porn, naughty, nude, young, kinky, sexy,...</td>\n",
       "    </tr>\n",
       "    <tr>\n",
       "      <th>3172</th>\n",
       "      <td>3173</td>\n",
       "      <td>0</td>\n",
       "      <td>milkyway24 - na: #kinky #slut #porn #xxx   #na...</td>\n",
       "      <td>milkyway24   na   kinky  slut  porn  xxx    na...</td>\n",
       "      <td>[kinky, slut, porn, xxx, nasty, young, naughty...</td>\n",
       "    </tr>\n",
       "    <tr>\n",
       "      <th>3411</th>\n",
       "      <td>3412</td>\n",
       "      <td>0</td>\n",
       "      <td>yuki920 - cooking ,listen to the music ,readin...</td>\n",
       "      <td>yuki920   cooking  listen to the music  readin...</td>\n",
       "      <td>[young, kinky, slut, wet, snapshot, horny, nas...</td>\n",
       "    </tr>\n",
       "    <tr>\n",
       "      <th>5126</th>\n",
       "      <td>5127</td>\n",
       "      <td>0</td>\n",
       "      <td>ashley1sweetie - na: #wet #porn #sexy #hot #yo...</td>\n",
       "      <td>ashley1sweetie   na   wet  porn  sexy  hot  yo...</td>\n",
       "      <td>[wet, porn, sexy, hot, young, nude, horny, nau...</td>\n",
       "    </tr>\n",
       "    <tr>\n",
       "      <th>5146</th>\n",
       "      <td>5147</td>\n",
       "      <td>0</td>\n",
       "      <td>queenanelisse - i like positive atitude,i like...</td>\n",
       "      <td>queenanelisse   i like positive atitude i like...</td>\n",
       "      <td>[snapshot, shy, nude, slut, na]</td>\n",
       "    </tr>\n",
       "    <tr>\n",
       "      <th>5367</th>\n",
       "      <td>5368</td>\n",
       "      <td>0</td>\n",
       "      <td>nice1girl - na: #horny #slut #kinky #nude #hot...</td>\n",
       "      <td>nice1girl   na   horny  slut  kinky  nude  hot...</td>\n",
       "      <td>[horny, slut, kinky, nude, hot, nasty, sexy, p...</td>\n",
       "    </tr>\n",
       "    <tr>\n",
       "      <th>5767</th>\n",
       "      <td>5768</td>\n",
       "      <td>0</td>\n",
       "      <td>mattlaw - cultures and cars: #horny #nude #xxx...</td>\n",
       "      <td>mattlaw   cultures and cars   horny  nude  xxx...</td>\n",
       "      <td>[horny, nude, xxx, sexy, kinky, naughty, shy, ...</td>\n",
       "    </tr>\n",
       "    <tr>\n",
       "      <th>6131</th>\n",
       "      <td>6132</td>\n",
       "      <td>0</td>\n",
       "      <td>gentlepassion4u - na: #naughty   #shy #slut #n...</td>\n",
       "      <td>gentlepassion4u   na   naughty    shy  slut  n...</td>\n",
       "      <td>[naughty, shy, slut, nude, sexy, hot, porn, ho...</td>\n",
       "    </tr>\n",
       "    <tr>\n",
       "      <th>6959</th>\n",
       "      <td>6960</td>\n",
       "      <td>0</td>\n",
       "      <td>11inchlatcock - giving or receiving oral sex w...</td>\n",
       "      <td>11inchlatcock   giving or receiving oral sex w...</td>\n",
       "      <td>[young, nude, slut, hot, naugh]</td>\n",
       "    </tr>\n",
       "    <tr>\n",
       "      <th>8643</th>\n",
       "      <td>8644</td>\n",
       "      <td>0</td>\n",
       "      <td>loversplayz - na: #naughty #nude   #sexy #kink...</td>\n",
       "      <td>loversplayz   na   naughty  nude    sexy  kink...</td>\n",
       "      <td>[naughty, nude, sexy, kinky, hot, xxx, young, ...</td>\n",
       "    </tr>\n",
       "    <tr>\n",
       "      <th>8712</th>\n",
       "      <td>8713</td>\n",
       "      <td>0</td>\n",
       "      <td>greattits4ux - na: #horny   #shy #nasty #slut ...</td>\n",
       "      <td>greattits4ux   na   horny    shy  nasty  slut ...</td>\n",
       "      <td>[horny, shy, nasty, slut, porn, young, naughty...</td>\n",
       "    </tr>\n",
       "    <tr>\n",
       "      <th>9280</th>\n",
       "      <td>9281</td>\n",
       "      <td>0</td>\n",
       "      <td>black12iwhiteboy - na: #porn #nude #xxx #nasty...</td>\n",
       "      <td>black12iwhiteboy   na   porn  nude  xxx  nasty...</td>\n",
       "      <td>[porn, nude, xxx, nasty, young, horny, slut, h...</td>\n",
       "    </tr>\n",
       "    <tr>\n",
       "      <th>9934</th>\n",
       "      <td>9935</td>\n",
       "      <td>0</td>\n",
       "      <td>queenanelisse - i like positive atitude,i like...</td>\n",
       "      <td>queenanelisse   i like positive atitude i like...</td>\n",
       "      <td>[snapshot, shy, nude, slut, na]</td>\n",
       "    </tr>\n",
       "    <tr>\n",
       "      <th>10705</th>\n",
       "      <td>10706</td>\n",
       "      <td>0</td>\n",
       "      <td>littleteensasha - to fulfill all your desire a...</td>\n",
       "      <td>littleteensasha   to fulfill all your desire a...</td>\n",
       "      <td>[slut, naughty, hot, nasty]</td>\n",
       "    </tr>\n",
       "    <tr>\n",
       "      <th>11437</th>\n",
       "      <td>11438</td>\n",
       "      <td>0</td>\n",
       "      <td>abbyybelle - na: #porn #nasty #horny #nude #ki...</td>\n",
       "      <td>abbyybelle   na   porn  nasty  horny  nude  ki...</td>\n",
       "      <td>[porn, nasty, horny, nude, kinky, shy, sexy, y...</td>\n",
       "    </tr>\n",
       "    <tr>\n",
       "      <th>12607</th>\n",
       "      <td>12608</td>\n",
       "      <td>0</td>\n",
       "      <td>hugekenforyoux - i will giving you a perfectsh...</td>\n",
       "      <td>hugekenforyoux   i will giving you a perfectsh...</td>\n",
       "      <td>[porn, horny, xxx, slut, nast]</td>\n",
       "    </tr>\n",
       "    <tr>\n",
       "      <th>12949</th>\n",
       "      <td>12950</td>\n",
       "      <td>0</td>\n",
       "      <td>whitepanther19 - na: #hot #slut #xxx #porn #se...</td>\n",
       "      <td>whitepanther19   na   hot  slut  xxx  porn  se...</td>\n",
       "      <td>[hot, slut, xxx, porn, sexy, nude, horny, kink...</td>\n",
       "    </tr>\n",
       "    <tr>\n",
       "      <th>13093</th>\n",
       "      <td>13094</td>\n",
       "      <td>0</td>\n",
       "      <td>ariellesloth - na: #kinky #horny   #young #nau...</td>\n",
       "      <td>ariellesloth   na   kinky  horny    young  nau...</td>\n",
       "      <td>[kinky, horny, young, naughty, nude, porn, shy...</td>\n",
       "    </tr>\n",
       "    <tr>\n",
       "      <th>13600</th>\n",
       "      <td>13601</td>\n",
       "      <td>0</td>\n",
       "      <td>gentlepassion4u - na: #naughty   #shy #slut #n...</td>\n",
       "      <td>gentlepassion4u   na   naughty    shy  slut  n...</td>\n",
       "      <td>[naughty, shy, slut, nude, sexy, hot, porn, ho...</td>\n",
       "    </tr>\n",
       "    <tr>\n",
       "      <th>14179</th>\n",
       "      <td>14180</td>\n",
       "      <td>0</td>\n",
       "      <td>carmineryderrr - na:   #xxx #horny #young #sex...</td>\n",
       "      <td>carmineryderrr   na     xxx  horny  young  sex...</td>\n",
       "      <td>[xxx, horny, young, sexy, porn, snapshot, kink...</td>\n",
       "    </tr>\n",
       "    <tr>\n",
       "      <th>15277</th>\n",
       "      <td>15278</td>\n",
       "      <td>0</td>\n",
       "      <td>daysydoll - na: #naughty #nude #young #horny #...</td>\n",
       "      <td>daysydoll   na   naughty  nude  young  horny  ...</td>\n",
       "      <td>[naughty, nude, young, horny, nasty, hot, shy,...</td>\n",
       "    </tr>\n",
       "    <tr>\n",
       "      <th>16077</th>\n",
       "      <td>16078</td>\n",
       "      <td>0</td>\n",
       "      <td>jackblair - na:   #wet #snapshot #shy #hot #ki...</td>\n",
       "      <td>jackblair   na     wet  snapshot  shy  hot  ki...</td>\n",
       "      <td>[wet, snapshot, shy, hot, kinky, horny, naught...</td>\n",
       "    </tr>\n",
       "    <tr>\n",
       "      <th>17579</th>\n",
       "      <td>17580</td>\n",
       "      <td>0</td>\n",
       "      <td>donnabrill - na: #slut #naughty #wet #hot #hor...</td>\n",
       "      <td>donnabrill   na   slut  naughty  wet  hot  hor...</td>\n",
       "      <td>[slut, naughty, wet, hot, horny, nasty, porn, ...</td>\n",
       "    </tr>\n",
       "    <tr>\n",
       "      <th>17634</th>\n",
       "      <td>17635</td>\n",
       "      <td>0</td>\n",
       "      <td>cutemuscleboys - na: #nasty #wet #hot #young #...</td>\n",
       "      <td>cutemuscleboys   na   nasty  wet  hot  young  ...</td>\n",
       "      <td>[nasty, wet, hot, young, slut, xxx, kinky, nau...</td>\n",
       "    </tr>\n",
       "    <tr>\n",
       "      <th>17919</th>\n",
       "      <td>17920</td>\n",
       "      <td>0</td>\n",
       "      <td>twinklatinboys - na: #slut #snapshot #hot #nas...</td>\n",
       "      <td>twinklatinboys   na   slut  snapshot  hot  nas...</td>\n",
       "      <td>[slut, snapshot, hot, nasty, naughty, sexy, ho...</td>\n",
       "    </tr>\n",
       "    <tr>\n",
       "      <th>18010</th>\n",
       "      <td>18011</td>\n",
       "      <td>0</td>\n",
       "      <td>abbyybelle - na: #porn #nasty #horny #nude #ki...</td>\n",
       "      <td>abbyybelle   na   porn  nasty  horny  nude  ki...</td>\n",
       "      <td>[porn, nasty, horny, nude, kinky, shy, sexy, y...</td>\n",
       "    </tr>\n",
       "    <tr>\n",
       "      <th>19124</th>\n",
       "      <td>19125</td>\n",
       "      <td>0</td>\n",
       "      <td>nicesunnyblondy - na: #slut #xxx #young #hot #...</td>\n",
       "      <td>nicesunnyblondy   na   slut  xxx  young  hot  ...</td>\n",
       "      <td>[slut, xxx, young, hot, kinky, naughty, horny,...</td>\n",
       "    </tr>\n",
       "    <tr>\n",
       "      <th>19599</th>\n",
       "      <td>19600</td>\n",
       "      <td>0</td>\n",
       "      <td>brittany9 - na: #slut #nude #sexy #naughty #ho...</td>\n",
       "      <td>brittany9   na   slut  nude  sexy  naughty  ho...</td>\n",
       "      <td>[slut, nude, sexy, naughty, horny, xxx, kinky,...</td>\n",
       "    </tr>\n",
       "    <tr>\n",
       "      <th>19721</th>\n",
       "      <td>19722</td>\n",
       "      <td>0</td>\n",
       "      <td>ursexiestmorena - na: #slut #young #snapshot #...</td>\n",
       "      <td>ursexiestmorena   na   slut  young  snapshot  ...</td>\n",
       "      <td>[slut, young, snapshot, porn, sexy, naughty, k...</td>\n",
       "    </tr>\n",
       "    <tr>\n",
       "      <th>19911</th>\n",
       "      <td>19912</td>\n",
       "      <td>0</td>\n",
       "      <td>cutemuscleboys - na: #nasty #wet #hot #young #...</td>\n",
       "      <td>cutemuscleboys   na   nasty  wet  hot  young  ...</td>\n",
       "      <td>[nasty, wet, hot, young, slut, xxx, kinky, nau...</td>\n",
       "    </tr>\n",
       "    <tr>\n",
       "      <th>20572</th>\n",
       "      <td>20573</td>\n",
       "      <td>0</td>\n",
       "      <td>wellybel - na: #xxx #sexy #slut #nasty   #porn...</td>\n",
       "      <td>wellybel   na   xxx  sexy  slut  nasty    porn...</td>\n",
       "      <td>[xxx, sexy, slut, nasty, porn, naughty, hot, y...</td>\n",
       "    </tr>\n",
       "    <tr>\n",
       "      <th>20619</th>\n",
       "      <td>20620</td>\n",
       "      <td>0</td>\n",
       "      <td>carmineryderrr - na:   #xxx #horny #young #sex...</td>\n",
       "      <td>carmineryderrr   na     xxx  horny  young  sex...</td>\n",
       "      <td>[xxx, horny, young, sexy, porn, snapshot, kink...</td>\n",
       "    </tr>\n",
       "    <tr>\n",
       "      <th>20895</th>\n",
       "      <td>20896</td>\n",
       "      <td>0</td>\n",
       "      <td>nice1girl - na: #horny #slut #kinky #nude #hot...</td>\n",
       "      <td>nice1girl   na   horny  slut  kinky  nude  hot...</td>\n",
       "      <td>[horny, slut, kinky, nude, hot, nasty, sexy, p...</td>\n",
       "    </tr>\n",
       "    <tr>\n",
       "      <th>21133</th>\n",
       "      <td>21134</td>\n",
       "      <td>0</td>\n",
       "      <td>twinklatinboys - na: #slut #snapshot #hot #nas...</td>\n",
       "      <td>twinklatinboys   na   slut  snapshot  hot  nas...</td>\n",
       "      <td>[slut, snapshot, hot, nasty, naughty, sexy, ho...</td>\n",
       "    </tr>\n",
       "    <tr>\n",
       "      <th>21389</th>\n",
       "      <td>21390</td>\n",
       "      <td>0</td>\n",
       "      <td>milkyway24 - na: #kinky #slut #porn #xxx   #na...</td>\n",
       "      <td>milkyway24   na   kinky  slut  porn  xxx    na...</td>\n",
       "      <td>[kinky, slut, porn, xxx, nasty, young, naughty...</td>\n",
       "    </tr>\n",
       "    <tr>\n",
       "      <th>21672</th>\n",
       "      <td>21673</td>\n",
       "      <td>0</td>\n",
       "      <td>jackblair - na:   #wet #snapshot #shy #hot #ki...</td>\n",
       "      <td>jackblair   na     wet  snapshot  shy  hot  ki...</td>\n",
       "      <td>[wet, snapshot, shy, hot, kinky, horny, naught...</td>\n",
       "    </tr>\n",
       "    <tr>\n",
       "      <th>22122</th>\n",
       "      <td>22123</td>\n",
       "      <td>0</td>\n",
       "      <td>wellybel - na: #xxx #sexy #slut #nasty   #porn...</td>\n",
       "      <td>wellybel   na   xxx  sexy  slut  nasty    porn...</td>\n",
       "      <td>[xxx, sexy, slut, nasty, porn, naughty, hot, y...</td>\n",
       "    </tr>\n",
       "    <tr>\n",
       "      <th>22262</th>\n",
       "      <td>22263</td>\n",
       "      <td>0</td>\n",
       "      <td>hillarylove - fuck: #xxx #nasty #wet #slut #sh...</td>\n",
       "      <td>hillarylove   fuck   xxx  nasty  wet  slut  sh...</td>\n",
       "      <td>[xxx, nasty, wet, slut, shy, hot, naughty, you...</td>\n",
       "    </tr>\n",
       "    <tr>\n",
       "      <th>22720</th>\n",
       "      <td>22721</td>\n",
       "      <td>0</td>\n",
       "      <td>carmineryderrr - na:   #xxx #horny #young #sex...</td>\n",
       "      <td>carmineryderrr   na     xxx  horny  young  sex...</td>\n",
       "      <td>[xxx, horny, young, sexy, porn, snapshot, kink...</td>\n",
       "    </tr>\n",
       "    <tr>\n",
       "      <th>22818</th>\n",
       "      <td>22819</td>\n",
       "      <td>0</td>\n",
       "      <td>shyintruder - na: #slut #hot #xxx #shy #kinky ...</td>\n",
       "      <td>shyintruder   na   slut  hot  xxx  shy  kinky ...</td>\n",
       "      <td>[slut, hot, xxx, shy, kinky, horny, snapshot, ...</td>\n",
       "    </tr>\n",
       "    <tr>\n",
       "      <th>24111</th>\n",
       "      <td>24112</td>\n",
       "      <td>0</td>\n",
       "      <td>ariellesloth - na: #snapshot #kinky #horny #na...</td>\n",
       "      <td>ariellesloth   na   snapshot  kinky  horny  na...</td>\n",
       "      <td>[snapshot, kinky, horny, naughty, xxx, hot, sl...</td>\n",
       "    </tr>\n",
       "    <tr>\n",
       "      <th>24317</th>\n",
       "      <td>24318</td>\n",
       "      <td>0</td>\n",
       "      <td>bigballs96 - na: #porn #naughty   #slut #snaps...</td>\n",
       "      <td>bigballs96   na   porn  naughty    slut  snaps...</td>\n",
       "      <td>[porn, naughty, slut, snapshot, nude, xxx, kin...</td>\n",
       "    </tr>\n",
       "    <tr>\n",
       "      <th>24885</th>\n",
       "      <td>24886</td>\n",
       "      <td>0</td>\n",
       "      <td>blackcokwhiteass - na: #kinky #snapshot #naugh...</td>\n",
       "      <td>blackcokwhiteass   na   kinky  snapshot  naugh...</td>\n",
       "      <td>[kinky, snapshot, naughty, nasty, porn, wet, s...</td>\n",
       "    </tr>\n",
       "    <tr>\n",
       "      <th>25256</th>\n",
       "      <td>25257</td>\n",
       "      <td>0</td>\n",
       "      <td>justgabriel - na: #porn #kinky #sexy #naughty ...</td>\n",
       "      <td>justgabriel   na   porn  kinky  sexy  naughty ...</td>\n",
       "      <td>[porn, kinky, sexy, naughty, hot, wet, young, ...</td>\n",
       "    </tr>\n",
       "    <tr>\n",
       "      <th>26645</th>\n",
       "      <td>26646</td>\n",
       "      <td>0</td>\n",
       "      <td>twinklatinboys - na: #slut #snapshot #hot #nas...</td>\n",
       "      <td>twinklatinboys   na   slut  snapshot  hot  nas...</td>\n",
       "      <td>[slut, snapshot, hot, nasty, naughty, sexy, ho...</td>\n",
       "    </tr>\n",
       "    <tr>\n",
       "      <th>27378</th>\n",
       "      <td>27379</td>\n",
       "      <td>0</td>\n",
       "      <td>black12iwhiteboy - na: #porn #nude #xxx #nasty...</td>\n",
       "      <td>black12iwhiteboy   na   porn  nude  xxx  nasty...</td>\n",
       "      <td>[porn, nude, xxx, nasty, young, horny, slut, h...</td>\n",
       "    </tr>\n",
       "    <tr>\n",
       "      <th>28187</th>\n",
       "      <td>28188</td>\n",
       "      <td>0</td>\n",
       "      <td>bhigsexitits - funny guys like to dance for yo...</td>\n",
       "      <td>bhigsexitits   funny guys like to dance for yo...</td>\n",
       "      <td>[naughty, slut, wet, shy, hot, n]</td>\n",
       "    </tr>\n",
       "    <tr>\n",
       "      <th>29522</th>\n",
       "      <td>29523</td>\n",
       "      <td>0</td>\n",
       "      <td>keyshacreamy - na: #wet #porn #kinky #horny #x...</td>\n",
       "      <td>keyshacreamy   na   wet  porn  kinky  horny  x...</td>\n",
       "      <td>[wet, porn, kinky, horny, xxx, slut, hot, youn...</td>\n",
       "    </tr>\n",
       "    <tr>\n",
       "      <th>31258</th>\n",
       "      <td>31259</td>\n",
       "      <td>0</td>\n",
       "      <td>jackblair - na:   #wet #snapshot #shy #hot #ki...</td>\n",
       "      <td>jackblair   na     wet  snapshot  shy  hot  ki...</td>\n",
       "      <td>[wet, snapshot, shy, hot, kinky, horny, naught...</td>\n",
       "    </tr>\n",
       "    <tr>\n",
       "      <th>31547</th>\n",
       "      <td>31548</td>\n",
       "      <td>0</td>\n",
       "      <td>extremeboy1 - na:   #porn #nude #hot #shy #nau...</td>\n",
       "      <td>extremeboy1   na     porn  nude  hot  shy  nau...</td>\n",
       "      <td>[porn, nude, hot, shy, naughty, nasty, kinky, ...</td>\n",
       "    </tr>\n",
       "  </tbody>\n",
       "</table>\n",
       "</div>"
      ],
      "text/plain": [
       "          id  label                                              tweet  \\\n",
       "295      296      0  twinklatinboys - na: #slut #snapshot #hot #nas...   \n",
       "2866    2867      0  ursexiestmorena - na: #shy #porn #naughty #nud...   \n",
       "3172    3173      0  milkyway24 - na: #kinky #slut #porn #xxx   #na...   \n",
       "3411    3412      0  yuki920 - cooking ,listen to the music ,readin...   \n",
       "5126    5127      0  ashley1sweetie - na: #wet #porn #sexy #hot #yo...   \n",
       "5146    5147      0  queenanelisse - i like positive atitude,i like...   \n",
       "5367    5368      0  nice1girl - na: #horny #slut #kinky #nude #hot...   \n",
       "5767    5768      0  mattlaw - cultures and cars: #horny #nude #xxx...   \n",
       "6131    6132      0  gentlepassion4u - na: #naughty   #shy #slut #n...   \n",
       "6959    6960      0  11inchlatcock - giving or receiving oral sex w...   \n",
       "8643    8644      0  loversplayz - na: #naughty #nude   #sexy #kink...   \n",
       "8712    8713      0  greattits4ux - na: #horny   #shy #nasty #slut ...   \n",
       "9280    9281      0  black12iwhiteboy - na: #porn #nude #xxx #nasty...   \n",
       "9934    9935      0  queenanelisse - i like positive atitude,i like...   \n",
       "10705  10706      0  littleteensasha - to fulfill all your desire a...   \n",
       "11437  11438      0  abbyybelle - na: #porn #nasty #horny #nude #ki...   \n",
       "12607  12608      0  hugekenforyoux - i will giving you a perfectsh...   \n",
       "12949  12950      0  whitepanther19 - na: #hot #slut #xxx #porn #se...   \n",
       "13093  13094      0  ariellesloth - na: #kinky #horny   #young #nau...   \n",
       "13600  13601      0  gentlepassion4u - na: #naughty   #shy #slut #n...   \n",
       "14179  14180      0  carmineryderrr - na:   #xxx #horny #young #sex...   \n",
       "15277  15278      0  daysydoll - na: #naughty #nude #young #horny #...   \n",
       "16077  16078      0  jackblair - na:   #wet #snapshot #shy #hot #ki...   \n",
       "17579  17580      0  donnabrill - na: #slut #naughty #wet #hot #hor...   \n",
       "17634  17635      0  cutemuscleboys - na: #nasty #wet #hot #young #...   \n",
       "17919  17920      0  twinklatinboys - na: #slut #snapshot #hot #nas...   \n",
       "18010  18011      0  abbyybelle - na: #porn #nasty #horny #nude #ki...   \n",
       "19124  19125      0  nicesunnyblondy - na: #slut #xxx #young #hot #...   \n",
       "19599  19600      0  brittany9 - na: #slut #nude #sexy #naughty #ho...   \n",
       "19721  19722      0  ursexiestmorena - na: #slut #young #snapshot #...   \n",
       "19911  19912      0  cutemuscleboys - na: #nasty #wet #hot #young #...   \n",
       "20572  20573      0  wellybel - na: #xxx #sexy #slut #nasty   #porn...   \n",
       "20619  20620      0  carmineryderrr - na:   #xxx #horny #young #sex...   \n",
       "20895  20896      0  nice1girl - na: #horny #slut #kinky #nude #hot...   \n",
       "21133  21134      0  twinklatinboys - na: #slut #snapshot #hot #nas...   \n",
       "21389  21390      0  milkyway24 - na: #kinky #slut #porn #xxx   #na...   \n",
       "21672  21673      0  jackblair - na:   #wet #snapshot #shy #hot #ki...   \n",
       "22122  22123      0  wellybel - na: #xxx #sexy #slut #nasty   #porn...   \n",
       "22262  22263      0  hillarylove - fuck: #xxx #nasty #wet #slut #sh...   \n",
       "22720  22721      0  carmineryderrr - na:   #xxx #horny #young #sex...   \n",
       "22818  22819      0  shyintruder - na: #slut #hot #xxx #shy #kinky ...   \n",
       "24111  24112      0  ariellesloth - na: #snapshot #kinky #horny #na...   \n",
       "24317  24318      0  bigballs96 - na: #porn #naughty   #slut #snaps...   \n",
       "24885  24886      0  blackcokwhiteass - na: #kinky #snapshot #naugh...   \n",
       "25256  25257      0  justgabriel - na: #porn #kinky #sexy #naughty ...   \n",
       "26645  26646      0  twinklatinboys - na: #slut #snapshot #hot #nas...   \n",
       "27378  27379      0  black12iwhiteboy - na: #porn #nude #xxx #nasty...   \n",
       "28187  28188      0  bhigsexitits - funny guys like to dance for yo...   \n",
       "29522  29523      0  keyshacreamy - na: #wet #porn #kinky #horny #x...   \n",
       "31258  31259      0  jackblair - na:   #wet #snapshot #shy #hot #ki...   \n",
       "31547  31548      0  extremeboy1 - na:   #porn #nude #hot #shy #nau...   \n",
       "\n",
       "                                                 tweetch  \\\n",
       "295    twinklatinboys   na   slut  snapshot  hot  nas...   \n",
       "2866   ursexiestmorena   na   shy  porn  naughty  nud...   \n",
       "3172   milkyway24   na   kinky  slut  porn  xxx    na...   \n",
       "3411   yuki920   cooking  listen to the music  readin...   \n",
       "5126   ashley1sweetie   na   wet  porn  sexy  hot  yo...   \n",
       "5146   queenanelisse   i like positive atitude i like...   \n",
       "5367   nice1girl   na   horny  slut  kinky  nude  hot...   \n",
       "5767   mattlaw   cultures and cars   horny  nude  xxx...   \n",
       "6131   gentlepassion4u   na   naughty    shy  slut  n...   \n",
       "6959   11inchlatcock   giving or receiving oral sex w...   \n",
       "8643   loversplayz   na   naughty  nude    sexy  kink...   \n",
       "8712   greattits4ux   na   horny    shy  nasty  slut ...   \n",
       "9280   black12iwhiteboy   na   porn  nude  xxx  nasty...   \n",
       "9934   queenanelisse   i like positive atitude i like...   \n",
       "10705  littleteensasha   to fulfill all your desire a...   \n",
       "11437  abbyybelle   na   porn  nasty  horny  nude  ki...   \n",
       "12607  hugekenforyoux   i will giving you a perfectsh...   \n",
       "12949  whitepanther19   na   hot  slut  xxx  porn  se...   \n",
       "13093  ariellesloth   na   kinky  horny    young  nau...   \n",
       "13600  gentlepassion4u   na   naughty    shy  slut  n...   \n",
       "14179  carmineryderrr   na     xxx  horny  young  sex...   \n",
       "15277  daysydoll   na   naughty  nude  young  horny  ...   \n",
       "16077  jackblair   na     wet  snapshot  shy  hot  ki...   \n",
       "17579  donnabrill   na   slut  naughty  wet  hot  hor...   \n",
       "17634  cutemuscleboys   na   nasty  wet  hot  young  ...   \n",
       "17919  twinklatinboys   na   slut  snapshot  hot  nas...   \n",
       "18010  abbyybelle   na   porn  nasty  horny  nude  ki...   \n",
       "19124  nicesunnyblondy   na   slut  xxx  young  hot  ...   \n",
       "19599  brittany9   na   slut  nude  sexy  naughty  ho...   \n",
       "19721  ursexiestmorena   na   slut  young  snapshot  ...   \n",
       "19911  cutemuscleboys   na   nasty  wet  hot  young  ...   \n",
       "20572  wellybel   na   xxx  sexy  slut  nasty    porn...   \n",
       "20619  carmineryderrr   na     xxx  horny  young  sex...   \n",
       "20895  nice1girl   na   horny  slut  kinky  nude  hot...   \n",
       "21133  twinklatinboys   na   slut  snapshot  hot  nas...   \n",
       "21389  milkyway24   na   kinky  slut  porn  xxx    na...   \n",
       "21672  jackblair   na     wet  snapshot  shy  hot  ki...   \n",
       "22122  wellybel   na   xxx  sexy  slut  nasty    porn...   \n",
       "22262  hillarylove   fuck   xxx  nasty  wet  slut  sh...   \n",
       "22720  carmineryderrr   na     xxx  horny  young  sex...   \n",
       "22818  shyintruder   na   slut  hot  xxx  shy  kinky ...   \n",
       "24111  ariellesloth   na   snapshot  kinky  horny  na...   \n",
       "24317  bigballs96   na   porn  naughty    slut  snaps...   \n",
       "24885  blackcokwhiteass   na   kinky  snapshot  naugh...   \n",
       "25256  justgabriel   na   porn  kinky  sexy  naughty ...   \n",
       "26645  twinklatinboys   na   slut  snapshot  hot  nas...   \n",
       "27378  black12iwhiteboy   na   porn  nude  xxx  nasty...   \n",
       "28187  bhigsexitits   funny guys like to dance for yo...   \n",
       "29522  keyshacreamy   na   wet  porn  kinky  horny  x...   \n",
       "31258  jackblair   na     wet  snapshot  shy  hot  ki...   \n",
       "31547  extremeboy1   na     porn  nude  hot  shy  nau...   \n",
       "\n",
       "                                                 hashtag  \n",
       "295    [slut, snapshot, hot, nasty, naughty, sexy, ho...  \n",
       "2866   [shy, porn, naughty, nude, young, kinky, sexy,...  \n",
       "3172   [kinky, slut, porn, xxx, nasty, young, naughty...  \n",
       "3411   [young, kinky, slut, wet, snapshot, horny, nas...  \n",
       "5126   [wet, porn, sexy, hot, young, nude, horny, nau...  \n",
       "5146                     [snapshot, shy, nude, slut, na]  \n",
       "5367   [horny, slut, kinky, nude, hot, nasty, sexy, p...  \n",
       "5767   [horny, nude, xxx, sexy, kinky, naughty, shy, ...  \n",
       "6131   [naughty, shy, slut, nude, sexy, hot, porn, ho...  \n",
       "6959                     [young, nude, slut, hot, naugh]  \n",
       "8643   [naughty, nude, sexy, kinky, hot, xxx, young, ...  \n",
       "8712   [horny, shy, nasty, slut, porn, young, naughty...  \n",
       "9280   [porn, nude, xxx, nasty, young, horny, slut, h...  \n",
       "9934                     [snapshot, shy, nude, slut, na]  \n",
       "10705                        [slut, naughty, hot, nasty]  \n",
       "11437  [porn, nasty, horny, nude, kinky, shy, sexy, y...  \n",
       "12607                     [porn, horny, xxx, slut, nast]  \n",
       "12949  [hot, slut, xxx, porn, sexy, nude, horny, kink...  \n",
       "13093  [kinky, horny, young, naughty, nude, porn, shy...  \n",
       "13600  [naughty, shy, slut, nude, sexy, hot, porn, ho...  \n",
       "14179  [xxx, horny, young, sexy, porn, snapshot, kink...  \n",
       "15277  [naughty, nude, young, horny, nasty, hot, shy,...  \n",
       "16077  [wet, snapshot, shy, hot, kinky, horny, naught...  \n",
       "17579  [slut, naughty, wet, hot, horny, nasty, porn, ...  \n",
       "17634  [nasty, wet, hot, young, slut, xxx, kinky, nau...  \n",
       "17919  [slut, snapshot, hot, nasty, naughty, sexy, ho...  \n",
       "18010  [porn, nasty, horny, nude, kinky, shy, sexy, y...  \n",
       "19124  [slut, xxx, young, hot, kinky, naughty, horny,...  \n",
       "19599  [slut, nude, sexy, naughty, horny, xxx, kinky,...  \n",
       "19721  [slut, young, snapshot, porn, sexy, naughty, k...  \n",
       "19911  [nasty, wet, hot, young, slut, xxx, kinky, nau...  \n",
       "20572  [xxx, sexy, slut, nasty, porn, naughty, hot, y...  \n",
       "20619  [xxx, horny, young, sexy, porn, snapshot, kink...  \n",
       "20895  [horny, slut, kinky, nude, hot, nasty, sexy, p...  \n",
       "21133  [slut, snapshot, hot, nasty, naughty, sexy, ho...  \n",
       "21389  [kinky, slut, porn, xxx, nasty, young, naughty...  \n",
       "21672  [wet, snapshot, shy, hot, kinky, horny, naught...  \n",
       "22122  [xxx, sexy, slut, nasty, porn, naughty, hot, y...  \n",
       "22262  [xxx, nasty, wet, slut, shy, hot, naughty, you...  \n",
       "22720  [xxx, horny, young, sexy, porn, snapshot, kink...  \n",
       "22818  [slut, hot, xxx, shy, kinky, horny, snapshot, ...  \n",
       "24111  [snapshot, kinky, horny, naughty, xxx, hot, sl...  \n",
       "24317  [porn, naughty, slut, snapshot, nude, xxx, kin...  \n",
       "24885  [kinky, snapshot, naughty, nasty, porn, wet, s...  \n",
       "25256  [porn, kinky, sexy, naughty, hot, wet, young, ...  \n",
       "26645  [slut, snapshot, hot, nasty, naughty, sexy, ho...  \n",
       "27378  [porn, nude, xxx, nasty, young, horny, slut, h...  \n",
       "28187                  [naughty, slut, wet, shy, hot, n]  \n",
       "29522  [wet, porn, kinky, horny, xxx, slut, hot, youn...  \n",
       "31258  [wet, snapshot, shy, hot, kinky, horny, naught...  \n",
       "31547  [porn, nude, hot, shy, naughty, nasty, kinky, ...  "
      ]
     },
     "execution_count": 14,
     "metadata": {},
     "output_type": "execute_result"
    }
   ],
   "source": [
    "t=df[df['hashtag'].apply(lambda x: \"slut\" in x)]\n",
    "x.append(tag)\n",
    "hate.append(len(t[t[\"label\"]==1]))\n",
    "neutral.append(len(t[t[\"label\"]==0]))\n",
    "t.head(100)"
   ]
  },
  {
   "cell_type": "code",
   "execution_count": 15,
   "id": "9de2415b",
   "metadata": {
    "execution": {
     "iopub.execute_input": "2022-03-10T07:19:16.335618Z",
     "iopub.status.busy": "2022-03-10T07:19:16.335040Z",
     "iopub.status.idle": "2022-03-10T07:19:16.363195Z",
     "shell.execute_reply": "2022-03-10T07:19:16.363598Z",
     "shell.execute_reply.started": "2022-03-10T00:43:41.419242Z"
    },
    "papermill": {
     "duration": 0.066489,
     "end_time": "2022-03-10T07:19:16.363774",
     "exception": false,
     "start_time": "2022-03-10T07:19:16.297285",
     "status": "completed"
    },
    "tags": []
   },
   "outputs": [],
   "source": [
    "stop_words=stopwords.words('english')\n",
    "stemmer=PorterStemmer()"
   ]
  },
  {
   "cell_type": "code",
   "execution_count": 16,
   "id": "4d2c717b",
   "metadata": {
    "execution": {
     "iopub.execute_input": "2022-03-10T07:19:16.436827Z",
     "iopub.status.busy": "2022-03-10T07:19:16.436333Z",
     "iopub.status.idle": "2022-03-10T07:19:27.554116Z",
     "shell.execute_reply": "2022-03-10T07:19:27.554505Z",
     "shell.execute_reply.started": "2022-03-10T00:43:41.453143Z"
    },
    "papermill": {
     "duration": 11.155873,
     "end_time": "2022-03-10T07:19:27.554651",
     "exception": false,
     "start_time": "2022-03-10T07:19:16.398778",
     "status": "completed"
    },
    "tags": []
   },
   "outputs": [],
   "source": [
    "X=train['tweet']\n",
    "y=train['label']\n",
    "cleaned_data=[]\n",
    "for i in range(len(X)):\n",
    "   tweet=re.sub('[^a-zA-Z]',' ',X.iloc[i])\n",
    "   tweet=tweet.lower().split()   \n",
    "   tweet=[stemmer.stem(word) for word in tweet if (word not in stop_words)]\n",
    "   tweet=' '.join(tweet)\n",
    "   cleaned_data.append(tweet)\n"
   ]
  },
  {
   "cell_type": "code",
   "execution_count": 17,
   "id": "fa5bdb8b",
   "metadata": {
    "execution": {
     "iopub.execute_input": "2022-03-10T07:19:27.640054Z",
     "iopub.status.busy": "2022-03-10T07:19:27.633956Z",
     "iopub.status.idle": "2022-03-10T07:19:28.113845Z",
     "shell.execute_reply": "2022-03-10T07:19:28.113285Z",
     "shell.execute_reply.started": "2022-03-10T00:43:50.982549Z"
    },
    "papermill": {
     "duration": 0.523473,
     "end_time": "2022-03-10T07:19:28.113956",
     "exception": false,
     "start_time": "2022-03-10T07:19:27.590483",
     "status": "completed"
    },
    "tags": []
   },
   "outputs": [],
   "source": [
    "from sklearn.feature_extraction.text import CountVectorizer\n",
    "cv=CountVectorizer(max_features=5000)\n",
    "X_fin=cv.fit_transform(cleaned_data).toarray()\n"
   ]
  },
  {
   "cell_type": "code",
   "execution_count": 18,
   "id": "d007e810",
   "metadata": {
    "execution": {
     "iopub.execute_input": "2022-03-10T07:19:28.189176Z",
     "iopub.status.busy": "2022-03-10T07:19:28.188641Z",
     "iopub.status.idle": "2022-03-10T07:19:28.194933Z",
     "shell.execute_reply": "2022-03-10T07:19:28.195359Z",
     "shell.execute_reply.started": "2022-03-10T00:43:51.865401Z"
    },
    "papermill": {
     "duration": 0.046037,
     "end_time": "2022-03-10T07:19:28.195549",
     "exception": false,
     "start_time": "2022-03-10T07:19:28.149512",
     "status": "completed"
    },
    "tags": []
   },
   "outputs": [],
   "source": [
    "from sklearn.naive_bayes import MultinomialNB\n",
    "model=MultinomialNB()"
   ]
  },
  {
   "cell_type": "code",
   "execution_count": 19,
   "id": "c38fa66c",
   "metadata": {
    "execution": {
     "iopub.execute_input": "2022-03-10T07:19:28.270148Z",
     "iopub.status.busy": "2022-03-10T07:19:28.269477Z",
     "iopub.status.idle": "2022-03-10T07:19:29.276749Z",
     "shell.execute_reply": "2022-03-10T07:19:29.276190Z",
     "shell.execute_reply.started": "2022-03-10T00:43:51.875146Z"
    },
    "papermill": {
     "duration": 1.045447,
     "end_time": "2022-03-10T07:19:29.276868",
     "exception": false,
     "start_time": "2022-03-10T07:19:28.231421",
     "status": "completed"
    },
    "tags": []
   },
   "outputs": [
    {
     "data": {
      "text/plain": [
       "MultinomialNB()"
      ]
     },
     "execution_count": 19,
     "metadata": {},
     "output_type": "execute_result"
    }
   ],
   "source": [
    "from sklearn.model_selection import train_test_split\n",
    "X_train,X_test,y_train,y_test=train_test_split(X_fin,y,test_size=0.3)\n",
    "model.fit(X_train,y_train)"
   ]
  },
  {
   "cell_type": "code",
   "execution_count": 20,
   "id": "2b68824f",
   "metadata": {
    "execution": {
     "iopub.execute_input": "2022-03-10T07:19:29.351148Z",
     "iopub.status.busy": "2022-03-10T07:19:29.350522Z",
     "iopub.status.idle": "2022-03-10T07:19:29.492241Z",
     "shell.execute_reply": "2022-03-10T07:19:29.492749Z",
     "shell.execute_reply.started": "2022-03-10T00:43:53.789807Z"
    },
    "papermill": {
     "duration": 0.180202,
     "end_time": "2022-03-10T07:19:29.492904",
     "exception": false,
     "start_time": "2022-03-10T07:19:29.312702",
     "status": "completed"
    },
    "tags": []
   },
   "outputs": [
    {
     "name": "stdout",
     "output_type": "stream",
     "text": [
      "              precision    recall  f1-score   support\n",
      "\n",
      "           0       0.98      0.96      0.97      8945\n",
      "           1       0.57      0.71      0.63       644\n",
      "\n",
      "    accuracy                           0.94      9589\n",
      "   macro avg       0.78      0.83      0.80      9589\n",
      "weighted avg       0.95      0.94      0.95      9589\n",
      "\n"
     ]
    }
   ],
   "source": [
    "y_pred=model.predict(X_test)\n",
    "from sklearn.metrics import classification_report\n",
    "cf=classification_report(y_test,y_pred)\n",
    "print(cf)"
   ]
  },
  {
   "cell_type": "code",
   "execution_count": null,
   "id": "64753c90",
   "metadata": {
    "papermill": {
     "duration": 0.046639,
     "end_time": "2022-03-10T07:19:29.586158",
     "exception": false,
     "start_time": "2022-03-10T07:19:29.539519",
     "status": "completed"
    },
    "tags": []
   },
   "outputs": [],
   "source": []
  },
  {
   "cell_type": "code",
   "execution_count": null,
   "id": "afb6c8be",
   "metadata": {
    "papermill": {
     "duration": 0.035145,
     "end_time": "2022-03-10T07:19:29.657805",
     "exception": false,
     "start_time": "2022-03-10T07:19:29.622660",
     "status": "completed"
    },
    "tags": []
   },
   "outputs": [],
   "source": []
  },
  {
   "cell_type": "code",
   "execution_count": null,
   "id": "e81227ab",
   "metadata": {
    "papermill": {
     "duration": 0.052261,
     "end_time": "2022-03-10T07:19:29.746010",
     "exception": false,
     "start_time": "2022-03-10T07:19:29.693749",
     "status": "completed"
    },
    "tags": []
   },
   "outputs": [],
   "source": []
  },
  {
   "cell_type": "code",
   "execution_count": null,
   "id": "41779084",
   "metadata": {
    "papermill": {
     "duration": 0.052421,
     "end_time": "2022-03-10T07:19:29.850936",
     "exception": false,
     "start_time": "2022-03-10T07:19:29.798515",
     "status": "completed"
    },
    "tags": []
   },
   "outputs": [],
   "source": []
  },
  {
   "cell_type": "code",
   "execution_count": null,
   "id": "0f56ce39",
   "metadata": {
    "papermill": {
     "duration": 0.052397,
     "end_time": "2022-03-10T07:19:29.956324",
     "exception": false,
     "start_time": "2022-03-10T07:19:29.903927",
     "status": "completed"
    },
    "tags": []
   },
   "outputs": [],
   "source": []
  },
  {
   "cell_type": "code",
   "execution_count": null,
   "id": "7adf64b1",
   "metadata": {
    "papermill": {
     "duration": 0.052172,
     "end_time": "2022-03-10T07:19:30.060823",
     "exception": false,
     "start_time": "2022-03-10T07:19:30.008651",
     "status": "completed"
    },
    "tags": []
   },
   "outputs": [],
   "source": []
  },
  {
   "cell_type": "code",
   "execution_count": null,
   "id": "a24d43f4",
   "metadata": {
    "papermill": {
     "duration": 0.052516,
     "end_time": "2022-03-10T07:19:30.166272",
     "exception": false,
     "start_time": "2022-03-10T07:19:30.113756",
     "status": "completed"
    },
    "tags": []
   },
   "outputs": [],
   "source": []
  },
  {
   "cell_type": "code",
   "execution_count": null,
   "id": "35dfb83d",
   "metadata": {
    "papermill": {
     "duration": 0.061708,
     "end_time": "2022-03-10T07:19:30.285550",
     "exception": false,
     "start_time": "2022-03-10T07:19:30.223842",
     "status": "completed"
    },
    "tags": []
   },
   "outputs": [],
   "source": []
  },
  {
   "cell_type": "code",
   "execution_count": null,
   "id": "60802212",
   "metadata": {
    "papermill": {
     "duration": 0.053082,
     "end_time": "2022-03-10T07:19:30.396079",
     "exception": false,
     "start_time": "2022-03-10T07:19:30.342997",
     "status": "completed"
    },
    "tags": []
   },
   "outputs": [],
   "source": []
  },
  {
   "cell_type": "code",
   "execution_count": null,
   "id": "c2568ff7",
   "metadata": {
    "papermill": {
     "duration": 0.053256,
     "end_time": "2022-03-10T07:19:30.503341",
     "exception": false,
     "start_time": "2022-03-10T07:19:30.450085",
     "status": "completed"
    },
    "tags": []
   },
   "outputs": [],
   "source": []
  },
  {
   "cell_type": "code",
   "execution_count": null,
   "id": "3fe119cb",
   "metadata": {
    "papermill": {
     "duration": 0.053179,
     "end_time": "2022-03-10T07:19:30.609835",
     "exception": false,
     "start_time": "2022-03-10T07:19:30.556656",
     "status": "completed"
    },
    "tags": []
   },
   "outputs": [],
   "source": []
  },
  {
   "cell_type": "code",
   "execution_count": null,
   "id": "0a2741e2",
   "metadata": {
    "papermill": {
     "duration": 0.035327,
     "end_time": "2022-03-10T07:19:30.686574",
     "exception": false,
     "start_time": "2022-03-10T07:19:30.651247",
     "status": "completed"
    },
    "tags": []
   },
   "outputs": [],
   "source": []
  }
 ],
 "metadata": {
  "kernelspec": {
   "display_name": "Python 3",
   "language": "python",
   "name": "python3"
  },
  "language_info": {
   "codemirror_mode": {
    "name": "ipython",
    "version": 3
   },
   "file_extension": ".py",
   "mimetype": "text/x-python",
   "name": "python",
   "nbconvert_exporter": "python",
   "pygments_lexer": "ipython3",
   "version": "3.7.12"
  },
  "papermill": {
   "default_parameters": {},
   "duration": 54.775599,
   "end_time": "2022-03-10T07:19:31.834488",
   "environment_variables": {},
   "exception": null,
   "input_path": "__notebook__.ipynb",
   "output_path": "__notebook__.ipynb",
   "parameters": {},
   "start_time": "2022-03-10T07:18:37.058889",
   "version": "2.3.3"
  }
 },
 "nbformat": 4,
 "nbformat_minor": 5
}
